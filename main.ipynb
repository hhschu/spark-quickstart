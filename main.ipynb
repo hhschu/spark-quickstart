{
 "cells": [
  {
   "cell_type": "code",
   "execution_count": 2,
   "metadata": {},
   "outputs": [
    {
     "name": "stderr",
     "output_type": "stream",
     "text": [
      "24/02/26 13:27:24 WARN Utils: Your hostname, Davids-MacBook-Pro.local resolves to a loopback address: 127.0.0.1; using 192.168.1.41 instead (on interface en0)\n",
      "24/02/26 13:27:24 WARN Utils: Set SPARK_LOCAL_IP if you need to bind to another address\n",
      "Setting default log level to \"WARN\".\n",
      "To adjust logging level use sc.setLogLevel(newLevel). For SparkR, use setLogLevel(newLevel).\n",
      "24/02/26 13:27:26 WARN NativeCodeLoader: Unable to load native-hadoop library for your platform... using builtin-java classes where applicable\n"
     ]
    }
   ],
   "source": [
    "from pyspark.sql import SparkSession\n",
    "\n",
    "sc = SparkSession.builder.getOrCreate()"
   ]
  },
  {
   "cell_type": "code",
   "execution_count": 3,
   "metadata": {},
   "outputs": [
    {
     "name": "stderr",
     "output_type": "stream",
     "text": [
      "                                                                                \r"
     ]
    },
    {
     "name": "stdout",
     "output_type": "stream",
     "text": [
      "+------+----+--------+\n",
      "|course|year|earnings|\n",
      "+------+----+--------+\n",
      "|dotNET|2012|   10000|\n",
      "|  Java|2012|   20000|\n",
      "|dotNET|2012|    5000|\n",
      "|dotNET|2013|   48000|\n",
      "|  Java|2013|   30000|\n",
      "+------+----+--------+\n",
      "\n"
     ]
    }
   ],
   "source": [
    "from pyspark.sql import Row\n",
    "\n",
    "df1 = sc.createDataFrame([\n",
    "    Row(course=\"dotNET\", year=2012, earnings=10000),\n",
    "    Row(course=\"Java\", year=2012, earnings=20000),\n",
    "    Row(course=\"dotNET\", year=2012, earnings=5000),\n",
    "    Row(course=\"dotNET\", year=2013, earnings=48000),\n",
    "    Row(course=\"Java\", year=2013, earnings=30000),\n",
    "])\n",
    "df1.show()"
   ]
  },
  {
   "cell_type": "code",
   "execution_count": 31,
   "metadata": {},
   "outputs": [
    {
     "name": "stdout",
     "output_type": "stream",
     "text": [
      "root\n",
      " |-- course: string (nullable = true)\n",
      " |-- year: long (nullable = true)\n",
      " |-- earnings: long (nullable = true)\n",
      "\n"
     ]
    }
   ],
   "source": [
    "df1.printSchema()"
   ]
  },
  {
   "cell_type": "code",
   "execution_count": 30,
   "metadata": {},
   "outputs": [
    {
     "name": "stderr",
     "output_type": "stream",
     "text": [
      "[Stage 114:>                                                        (0 + 4) / 4]\r"
     ]
    },
    {
     "name": "stdout",
     "output_type": "stream",
     "text": [
      "+-------+------+------------------+------------------+\n",
      "|summary|course|              year|          earnings|\n",
      "+-------+------+------------------+------------------+\n",
      "|  count|     5|                 5|                 5|\n",
      "|   mean|  NULL|            2012.4|           22600.0|\n",
      "| stddev|  NULL|0.5477225575051662|17140.595088852664|\n",
      "|    min|  Java|              2012|              5000|\n",
      "|    max|dotNET|              2013|             48000|\n",
      "+-------+------+------------------+------------------+\n",
      "\n"
     ]
    },
    {
     "name": "stderr",
     "output_type": "stream",
     "text": [
      "                                                                                \r"
     ]
    }
   ],
   "source": [
    "df1.describe().show()"
   ]
  },
  {
   "cell_type": "code",
   "execution_count": 35,
   "metadata": {},
   "outputs": [
    {
     "name": "stderr",
     "output_type": "stream",
     "text": [
      "[Stage 124:>                                                        (0 + 4) / 4]\r"
     ]
    },
    {
     "name": "stdout",
     "output_type": "stream",
     "text": [
      "+------+--------+\n",
      "|course|earnings|\n",
      "+------+--------+\n",
      "|dotNET|   15000|\n",
      "|  Java|   20000|\n",
      "+------+--------+\n",
      "\n"
     ]
    },
    {
     "name": "stderr",
     "output_type": "stream",
     "text": [
      "                                                                                \r"
     ]
    }
   ],
   "source": [
    "from pyspark.sql.functions import sum\n",
    "\n",
    "df1.filter(df1.year == 2012)\\\n",
    "    .select(\"course\", \"earnings\")\\\n",
    "    .groupBy(\"course\").agg(sum(\"earnings\").alias(\"earnings\"))\\\n",
    "    .show()"
   ]
  },
  {
   "cell_type": "code",
   "execution_count": 6,
   "metadata": {},
   "outputs": [
    {
     "name": "stderr",
     "output_type": "stream",
     "text": [
      "[Stage 32:==============>                                           (1 + 3) / 4]\r"
     ]
    },
    {
     "name": "stdout",
     "output_type": "stream",
     "text": [
      "+----+-----+------+-----+\n",
      "|year| Java|dotNET|Total|\n",
      "+----+-----+------+-----+\n",
      "|2012|20000| 15000|35000|\n",
      "|2013|30000| 48000|78000|\n",
      "+----+-----+------+-----+\n",
      "\n"
     ]
    },
    {
     "name": "stderr",
     "output_type": "stream",
     "text": [
      "                                                                                \r"
     ]
    }
   ],
   "source": [
    "from pyspark.sql.functions import col\n",
    "\n",
    "df1.groupBy(\"year\").pivot(\"course\").sum(\"earnings\")\\\n",
    "    .withColumn(\"Total\", col(\"Java\") + col(\"dotNET\"))\\\n",
    "    .show()"
   ]
  },
  {
   "cell_type": "code",
   "execution_count": 14,
   "metadata": {},
   "outputs": [
    {
     "name": "stderr",
     "output_type": "stream",
     "text": [
      "[Stage 50:==============>                                           (1 + 3) / 4]\r"
     ]
    },
    {
     "name": "stdout",
     "output_type": "stream",
     "text": [
      "+------+----------------+--------------+\n",
      "|course|average_earnings|total_earnings|\n",
      "+------+----------------+--------------+\n",
      "|dotNET|         21000.0|         63000|\n",
      "|  Java|         25000.0|         50000|\n",
      "+------+----------------+--------------+\n",
      "\n"
     ]
    },
    {
     "name": "stderr",
     "output_type": "stream",
     "text": [
      "                                                                                \r"
     ]
    }
   ],
   "source": [
    "from pyspark.sql.functions import avg, sum\n",
    "\n",
    "df1.groupBy(\"course\")\\\n",
    "    .agg(avg(\"earnings\").alias(\"average_earnings\"), sum(\"earnings\").alias(\"total_earnings\"))\\\n",
    "    .show()"
   ]
  },
  {
   "cell_type": "code",
   "execution_count": 23,
   "metadata": {},
   "outputs": [
    {
     "name": "stderr",
     "output_type": "stream",
     "text": [
      "[Stage 78:==============>                                           (1 + 3) / 4]\r"
     ]
    },
    {
     "name": "stdout",
     "output_type": "stream",
     "text": [
      "+------+----+--------+--------------+\n",
      "|course|year|earnings|culmul_earning|\n",
      "+------+----+--------+--------------+\n",
      "|  Java|2012|   20000|         20000|\n",
      "|  Java|2013|   30000|         50000|\n",
      "|dotNET|2012|   15000|         15000|\n",
      "|dotNET|2013|   48000|         63000|\n",
      "+------+----+--------+--------------+\n",
      "\n"
     ]
    },
    {
     "name": "stderr",
     "output_type": "stream",
     "text": [
      "                                                                                \r"
     ]
    }
   ],
   "source": [
    "from pyspark.sql.window import Window\n",
    "from pyspark.sql.functions import sum\n",
    "\n",
    "window_spec = Window().partitionBy(\"course\").orderBy(\"year\")\n",
    "df2 = df1.groupBy(\"course\", \"year\").agg(sum(\"earnings\").alias(\"earnings\"))\\\n",
    "    .withColumn(\"culmul_earning\", sum(\"earnings\").over(window_spec))\n",
    "df2.show()"
   ]
  },
  {
   "cell_type": "code",
   "execution_count": 24,
   "metadata": {},
   "outputs": [
    {
     "name": "stdout",
     "output_type": "stream",
     "text": [
      "+------+----+--------+--------------+\n",
      "|course|year|earnings|earnings_range|\n",
      "+------+----+--------+--------------+\n",
      "|  Java|2012|   20000|           mid|\n",
      "|  Java|2013|   30000|          high|\n",
      "|dotNET|2012|   15000|           mid|\n",
      "|dotNET|2013|   48000|          high|\n",
      "+------+----+--------+--------------+\n",
      "\n"
     ]
    }
   ],
   "source": [
    "from pyspark.sql.functions import when\n",
    "\n",
    "earnings_tier = when(col(\"earnings\") < 10000, \"low\")\\\n",
    "    .when(col(\"earnings\") < 30000, \"mid\")\\\n",
    "    .otherwise(\"high\")\n",
    "\n",
    "df3 = df1.groupBy(\"course\", \"year\").agg(sum(\"earnings\").alias(\"earnings\"))\\\n",
    "    .withColumn(\"earnings_range\", earnings_tier)\\\n",
    "    .orderBy(\"course\", \"year\")\n",
    "df3.show()"
   ]
  },
  {
   "cell_type": "code",
   "execution_count": 28,
   "metadata": {},
   "outputs": [
    {
     "name": "stderr",
     "output_type": "stream",
     "text": [
      "                                                                                \r"
     ]
    },
    {
     "name": "stdout",
     "output_type": "stream",
     "text": [
      "+------+----+--------+--------------+--------------+\n",
      "|course|year|earnings|earnings_range|culmul_earning|\n",
      "+------+----+--------+--------------+--------------+\n",
      "|  Java|2012|   20000|           mid|         20000|\n",
      "|  Java|2013|   30000|          high|         50000|\n",
      "|dotNET|2012|   15000|           mid|         15000|\n",
      "|dotNET|2013|   48000|          high|         63000|\n",
      "+------+----+--------+--------------+--------------+\n",
      "\n"
     ]
    }
   ],
   "source": [
    "df4 = df3.join(df2, on=[\"course\", \"year\"], how=\"left\")\\\n",
    "    .sort(\"course\", \"year\")\\\n",
    "    .drop(df2.earnings)\n",
    "df4.show()"
   ]
  },
  {
   "cell_type": "code",
   "execution_count": 37,
   "metadata": {},
   "outputs": [
    {
     "name": "stderr",
     "output_type": "stream",
     "text": [
      "                                                                                \r"
     ]
    }
   ],
   "source": [
    "df4.write.partitionBy(\"year\").mode(\"overwrite\").parquet(\"my.parquet\")"
   ]
  },
  {
   "cell_type": "code",
   "execution_count": 7,
   "metadata": {},
   "outputs": [
    {
     "name": "stdout",
     "output_type": "stream",
     "text": [
      "+---+---+-------+----------+-------------------+\n",
      "|  a|  b|      c|         d|                  e|\n",
      "+---+---+-------+----------+-------------------+\n",
      "|  1|2.0|string1|2000-01-01|2000-01-01 12:00:00|\n",
      "|  2|3.0|string1|2000-02-01|2000-01-02 12:00:00|\n",
      "|  3|3.0|string2|2000-02-01|2000-01-02 12:00:00|\n",
      "|  4|4.0|string3|2000-03-01|2000-01-03 12:00:00|\n",
      "+---+---+-------+----------+-------------------+\n",
      "\n"
     ]
    }
   ],
   "source": [
    "from datetime import date, datetime\n",
    "\n",
    "from pyspark.sql.types import (\n",
    "    StructType,\n",
    "    IntegerType,\n",
    "    FloatType,\n",
    "    DateType,\n",
    "    TimestampType,\n",
    "    StructField,\n",
    "    StringType,\n",
    ")\n",
    "\n",
    "schema = StructType(\n",
    "    [\n",
    "        StructField(\"a\", IntegerType(), True),\n",
    "        StructField(\"b\", FloatType(), True),\n",
    "        StructField(\"c\", StringType(), True),\n",
    "        StructField(\"d\", DateType(), True),\n",
    "        StructField(\"e\", TimestampType(), True),\n",
    "    ]\n",
    ")\n",
    "df = sc.createDataFrame(\n",
    "    [\n",
    "        (1, 2.0, \"string1\", date(2000, 1, 1), datetime(2000, 1, 1, 12, 0)),\n",
    "        (2, 3.0, \"string1\", date(2000, 2, 1), datetime(2000, 1, 2, 12, 0)),\n",
    "        (3, 3.0, \"string2\", date(2000, 2, 1), datetime(2000, 1, 2, 12, 0)),\n",
    "        (4, 4.0, \"string3\", date(2000, 3, 1), datetime(2000, 1, 3, 12, 0)),\n",
    "    ],\n",
    "    schema=schema,\n",
    ")\n",
    "\n",
    "df.show()"
   ]
  },
  {
   "cell_type": "code",
   "execution_count": null,
   "metadata": {},
   "outputs": [],
   "source": [
    "dz = sc.read.parquet(\"my.parquet\")"
   ]
  }
 ],
 "metadata": {
  "kernelspec": {
   "display_name": ".venv",
   "language": "python",
   "name": "python3"
  },
  "language_info": {
   "codemirror_mode": {
    "name": "ipython",
    "version": 3
   },
   "file_extension": ".py",
   "mimetype": "text/x-python",
   "name": "python",
   "nbconvert_exporter": "python",
   "pygments_lexer": "ipython3",
   "version": "3.11.7"
  }
 },
 "nbformat": 4,
 "nbformat_minor": 2
}
